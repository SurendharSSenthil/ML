{
  "cells": [
    {
      "cell_type": "markdown",
      "metadata": {
        "id": "view-in-github",
        "colab_type": "text"
      },
      "source": [
        "<a href=\"https://colab.research.google.com/github/SurendharSSenthil/ML/blob/main/Bayesian%20Network.ipynb\" target=\"_parent\"><img src=\"https://colab.research.google.com/assets/colab-badge.svg\" alt=\"Open In Colab\"/></a>"
      ]
    },
    {
      "cell_type": "code",
      "source": [
        "import pandas as pd\n",
        "from pgmpy.models import DiscreteBayesianNetwork as BayesianModel\n",
        "from pgmpy.estimators import MaximumLikelihoodEstimator, BayesianEstimator\n",
        "from sklearn.model_selection import train_test_split\n",
        "from sklearn.metrics import accuracy_score, precision_score, recall_score, f1_score\n",
        "from sklearn.preprocessing import LabelEncoder\n",
        "from pgmpy.inference import VariableElimination"
      ],
      "metadata": {
        "id": "w-CQT1ywxhkf"
      },
      "execution_count": 2,
      "outputs": []
    },
    {
      "cell_type": "code",
      "source": [
        "!pip install pgmpy\n"
      ],
      "metadata": {
        "id": "sykHjipsyCVT"
      },
      "execution_count": null,
      "outputs": []
    },
    {
      "cell_type": "code",
      "source": [
        "df = pd.read_csv('dataset.csv')\n",
        "print(df.head())\n",
        "\n",
        "le = LabelEncoder()\n",
        "for column in df.columns:\n",
        "  if df[column].dtype == 'object':\n",
        "    df[column] = le.fit_transform(df[column])\n",
        "\n",
        "model = BayesianModel([('age', 'trestbps'), ('age', 'fbs'), ('sex', 'trestbps'), ('exang', 'trestbps'), ('trestbps', 'target')])\n",
        "model.fit(df, estimator=MaximumLikelihoodEstimator)\n",
        "\n",
        "model.fit(df, estimator = MaximumLikelihoodEstimator)"
      ],
      "metadata": {
        "id": "K7yqp1qOx1iu",
        "outputId": "7125ba69-8e57-4cb6-9879-7e3ad6959a91",
        "colab": {
          "base_uri": "https://localhost:8080/"
        }
      },
      "execution_count": 11,
      "outputs": [
        {
          "output_type": "stream",
          "name": "stderr",
          "text": [
            "WARNING:pgmpy:Replacing existing CPD for age\n",
            "WARNING:pgmpy:Replacing existing CPD for trestbps\n",
            "WARNING:pgmpy:Replacing existing CPD for fbs\n",
            "WARNING:pgmpy:Replacing existing CPD for sex\n",
            "WARNING:pgmpy:Replacing existing CPD for exang\n",
            "WARNING:pgmpy:Replacing existing CPD for target\n"
          ]
        },
        {
          "output_type": "stream",
          "name": "stdout",
          "text": [
            "   age  sex  cp  trestbps  chol  fbs  restecg  thalach  exang  oldpeak  slope  \\\n",
            "0   63    1   3       145   233    1        0      150      0      2.3      0   \n",
            "1   37    1   2       130   250    0        1      187      0      3.5      0   \n",
            "2   41    0   1       130   204    0        0      172      0      1.4      2   \n",
            "3   56    1   1       120   236    0        1      178      0      0.8      2   \n",
            "4   57    0   0       120   354    0        1      163      1      0.6      2   \n",
            "\n",
            "   ca  thal  target  \n",
            "0   0     1       1  \n",
            "1   0     2       1  \n",
            "2   0     2       1  \n",
            "3   0     2       1  \n",
            "4   0     2       1  \n"
          ]
        },
        {
          "output_type": "execute_result",
          "data": {
            "text/plain": [
              "<pgmpy.models.DiscreteBayesianNetwork.DiscreteBayesianNetwork at 0x79ec62386a90>"
            ]
          },
          "metadata": {},
          "execution_count": 11
        }
      ]
    },
    {
      "cell_type": "code",
      "source": [
        "test_cases = [\n",
        "    {'age': 76, 'sex': 1, 'trestbps': 170}\n",
        "]\n",
        "\n",
        "\n",
        "infer = VariableElimination(model)\n",
        "for case in test_cases:\n",
        "    result = infer.query(variables=['target'], evidence=case)\n",
        "    print(f\"Prediction for {case}:\")\n",
        "    print(result)\n",
        "    print(\"\\n\")"
      ],
      "metadata": {
        "id": "SAFe7BNc00Eh",
        "outputId": "4c186411-e757-4b92-eafe-9c122d94ad5a",
        "colab": {
          "base_uri": "https://localhost:8080/"
        }
      },
      "execution_count": 24,
      "outputs": [
        {
          "output_type": "stream",
          "name": "stdout",
          "text": [
            "Prediction for {'age': 76, 'sex': 1, 'trestbps': 170}:\n",
            "+-----------+---------------+\n",
            "| target    |   phi(target) |\n",
            "+===========+===============+\n",
            "| target(0) |        0.7500 |\n",
            "+-----------+---------------+\n",
            "| target(1) |        0.2500 |\n",
            "+-----------+---------------+\n",
            "\n",
            "\n"
          ]
        }
      ]
    }
  ],
  "metadata": {
    "colab": {
      "name": "Welcome To Colab",
      "provenance": [],
      "include_colab_link": true
    },
    "kernelspec": {
      "display_name": "Python 3",
      "name": "python3"
    }
  },
  "nbformat": 4,
  "nbformat_minor": 0
}