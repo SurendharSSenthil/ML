{
  "nbformat": 4,
  "nbformat_minor": 0,
  "metadata": {
    "colab": {
      "provenance": [],
      "toc_visible": true,
      "authorship_tag": "ABX9TyOw/VV4H/IO8wjaSgnFKZ8Z",
      "include_colab_link": true
    },
    "kernelspec": {
      "name": "python3",
      "display_name": "Python 3"
    },
    "language_info": {
      "name": "python"
    }
  },
  "cells": [
    {
      "cell_type": "markdown",
      "metadata": {
        "id": "view-in-github",
        "colab_type": "text"
      },
      "source": [
        "<a href=\"https://colab.research.google.com/github/SurendharSSenthil/ML/blob/main/sentiment_analysis_using_random_forest.ipynb\" target=\"_parent\"><img src=\"https://colab.research.google.com/assets/colab-badge.svg\" alt=\"Open In Colab\"/></a>"
      ]
    },
    {
      "cell_type": "code",
      "source": [
        "import nltk\n",
        "import random\n",
        "import pandas as pd\n",
        "import seaborn as sns\n",
        "import matplotlib.pyplot as plt\n",
        "from nltk.corpus import movie_reviews, stopwords\n",
        "from sklearn.feature_extraction.text import TfidfVectorizer\n",
        "from sklearn.model_selection import train_test_split\n",
        "from sklearn.linear_model import LogisticRegression\n",
        "from sklearn.metrics import classification_report, confusion_matrix\n",
        "\n",
        "# Download required NLTK datasets\n",
        "nltk.download('movie_reviews')\n",
        "nltk.download('stopwords')\n",
        "\n",
        "# Load the movie reviews dataset\n",
        "docs = [(movie_reviews.raw(fileid), category)\n",
        "        for category in movie_reviews.categories()\n",
        "        for fileid in movie_reviews.fileids(category)]\n",
        "\n",
        "# Shuffle the dataset for randomness\n",
        "random.shuffle(docs)\n",
        "\n",
        "# Split data into text (X) and labels (y)\n",
        "X = [doc[0] for doc in docs]  # Movie review texts\n",
        "y = [1 if doc[1] == 'pos' else 0 for doc in docs]  # 1 = Positive, 0 = Negative\n",
        "\n",
        "# Split into training and testing sets (80%-20%)\n",
        "X_train, X_test, y_train, y_test = train_test_split(X, y, test_size=0.2, random_state=42)\n",
        "\n",
        "# Vectorize text using TF-IDF\n",
        "stop_words = list(stopwords.words('english'))  # Convert set to list\n",
        "tfidf = TfidfVectorizer(stop_words='english', ngram_range=(1,2), max_features=10000, sublinear_tf=True)\n",
        "X_train_tfidf = tfidf.fit_transform(X_train)\n",
        "X_test_tfidf = tfidf.transform(X_test)\n",
        "\n",
        "# Train the Logistic Regression model\n",
        "model = LogisticRegression()\n",
        "model.fit(X_train_tfidf, y_train)\n",
        "\n",
        "# Make predictions\n",
        "y_pred = model.predict(X_test_tfidf)\n",
        "\n",
        "print(\"\\nAccuracy Score:\")\n",
        "print(f\"Accuracy: {accuracy_score(y_test, y_pred):.4f}\")\n",
        "# Display Confusion Matrix\n",
        "print(\"\\nConfusion Matrix:\")\n",
        "cm = confusion_matrix(y_test, y_pred)\n",
        "cm_df = pd.DataFrame(cm, index=['Negative', 'Positive'], columns=['Negative', 'Positive'])\n",
        "sns.heatmap(cm_df, annot=True, fmt='d', cmap='Greens', cbar=False)\n",
        "plt.title(\"Confusion Matrix\")\n",
        "plt.ylabel(\"True Label\")\n",
        "plt.xlabel(\"Predicted Label\")\n",
        "plt.show()\n",
        "\n",
        "# Display Classification Report\n",
        "print(\"\\nClassification Report:\")\n",
        "print(classification_report(y_test, y_pred, target_names=['Negative', 'Positive']))\n",
        "\n",
        "# Function to predict sentiment of user input\n",
        "def predict_sentiment(user_input):\n",
        "    user_input_tfidf = tfidf.transform([user_input])\n",
        "    prediction = model.predict(user_input_tfidf)\n",
        "    sentiment = \"Positive\" if prediction == 1 else \"Negative\"\n",
        "    print(f\"\\nThe sentiment is: {sentiment}\")\n",
        "\n",
        "# Interactive Loop for User Input\n",
        "while True:\n",
        "    user_review = input(\"\\nEnter a movie review for sentiment analysis (or type 'exit' to quit): \")\n",
        "    if user_review.lower() == 'exit':\n",
        "        break\n",
        "    predict_sentiment(user_review)\n"
      ],
      "metadata": {
        "colab": {
          "base_uri": "https://localhost:8080/",
          "height": 1000
        },
        "id": "rbNKQzRk2jwZ",
        "outputId": "1b4547ef-825d-467f-850b-a35b0804b691"
      },
      "execution_count": null,
      "outputs": [
        {
          "output_type": "stream",
          "name": "stderr",
          "text": [
            "[nltk_data] Downloading package movie_reviews to /root/nltk_data...\n",
            "[nltk_data]   Package movie_reviews is already up-to-date!\n",
            "[nltk_data] Downloading package stopwords to /root/nltk_data...\n",
            "[nltk_data]   Package stopwords is already up-to-date!\n"
          ]
        },
        {
          "output_type": "stream",
          "name": "stdout",
          "text": [
            "\n",
            "Accuracy Score:\n",
            "Accuracy: 0.8775\n",
            "\n",
            "Confusion Matrix:\n"
          ]
        },
        {
          "output_type": "display_data",
          "data": {
            "text/plain": [
              "<Figure size 640x480 with 1 Axes>"
            ],
            "image/png": "[encoded data removed]"
          },
          "metadata": {}
        },
        {
          "output_type": "stream",
          "name": "stdout",
          "text": [
            "\n",
            "Classification Report:\n",
            "              precision    recall  f1-score   support\n",
            "\n",
            "    Negative       0.88      0.87      0.87       194\n",
            "    Positive       0.88      0.88      0.88       206\n",
            "\n",
            "    accuracy                           0.88       400\n",
            "   macro avg       0.88      0.88      0.88       400\n",
            "weighted avg       0.88      0.88      0.88       400\n",
            "\n",
            "\n",
            "Enter a movie review for sentiment analysis (or type 'exit' to quit): not fine\n",
            "\n",
            "The sentiment is: Positive\n",
            "\n",
            "Enter a movie review for sentiment analysis (or type 'exit' to quit): fine\n",
            "\n",
            "The sentiment is: Positive\n",
            "\n",
            "Enter a movie review for sentiment analysis (or type 'exit' to quit): nest\n",
            "\n",
            "The sentiment is: Negative\n",
            "\n",
            "Enter a movie review for sentiment analysis (or type 'exit' to quit): best movie\n",
            "\n",
            "The sentiment is: Positive\n",
            "\n",
            "Enter a movie review for sentiment analysis (or type 'exit' to quit): worst movie\n",
            "\n",
            "The sentiment is: Negative\n",
            "\n",
            "Enter a movie review for sentiment analysis (or type 'exit' to quit): fine movie\n",
            "\n",
            "The sentiment is: Positive\n",
            "\n",
            "Enter a movie review for sentiment analysis (or type 'exit' to quit): good movie\n",
            "\n",
            "The sentiment is: Negative\n",
            "\n",
            "Enter a movie review for sentiment analysis (or type 'exit' to quit): good but waste\n",
            "\n",
            "The sentiment is: Negative\n",
            "\n",
            "Enter a movie review for sentiment analysis (or type 'exit' to quit): good\n",
            "\n",
            "The sentiment is: Positive\n",
            "\n",
            "Enter a movie review for sentiment analysis (or type 'exit' to quit): but\n",
            "\n",
            "The sentiment is: Negative\n",
            "\n",
            "Enter a movie review for sentiment analysis (or type 'exit' to quit): bad but good\n",
            "\n",
            "The sentiment is: Negative\n"
          ]
        }
      ]
    }
  ]
}